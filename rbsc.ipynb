{
 "cells": [
  {
   "cell_type": "code",
   "execution_count": 1,
   "metadata": {},
   "outputs": [],
   "source": [
    "import requests"
   ]
  },
  {
   "cell_type": "code",
   "execution_count": 2,
   "metadata": {},
   "outputs": [],
   "source": [
    "# try look at json data without using the package (save u the hassle of using asyncio)\n",
    "# base url for all FPL API endpoints\n",
    "base_url = 'https://fantasy.premierleague.com/api/'\n",
    "\n",
    "# h2h league\n",
    "league_code = 982695 # rbsc h2h\n",
    "gw_no = 10"
   ]
  },
  {
   "cell_type": "markdown",
   "metadata": {},
   "source": [
    "## pulling data from h2h league"
   ]
  },
  {
   "cell_type": "code",
   "execution_count": 3,
   "metadata": {},
   "outputs": [],
   "source": [
    "def get_h2h_gw_scores(league_code:int, gw_no:int) -> dict:\n",
    "    '''Get h2h league gw score'''\n",
    "    # get h2h league data\n",
    "    r = requests.get(base_url+'leagues-h2h-matches/league/'+str(league_code)+'/?event='+str(gw_no))\n",
    "    assert r.status_code == 200, r.status_code\n",
    "\n",
    "    # parse data\n",
    "    data = {\n",
    "        'team_id':[],\n",
    "        'team_names':[],\n",
    "        'player_names':[],\n",
    "        'points_h2h':[],\n",
    "    }\n",
    "\n",
    "    results = r.json()['results'] # r.json()['results'] is a list of dictionary, each element represents a fixture within the h2h league\n",
    "    for result in results:\n",
    "        # odd number of players so one fixture will face an average, don't include that\n",
    "        if result['entry_1_name'] != 'AVERAGE':\n",
    "            data['team_id'].append(result['entry_1_entry'])\n",
    "            data['team_names'].append(result['entry_1_name'])\n",
    "            data['player_names'].append(result['entry_1_player_name'])\n",
    "            data['points_h2h'].append(result['entry_1_points'])\n",
    "        if result['entry_2_name'] != 'AVERAGE':\n",
    "            data['team_id'].append(result['entry_2_entry'])\n",
    "            data['team_names'].append(result['entry_2_name'])\n",
    "            data['player_names'].append(result['entry_2_player_name'])\n",
    "            data['points_h2h'].append(result['entry_2_points'])\n",
    "\n",
    "    assert len(data['team_names']) == 55 # ! hard code ไปก่อน\n",
    "\n",
    "    return data"
   ]
  },
  {
   "cell_type": "code",
   "execution_count": 4,
   "metadata": {},
   "outputs": [],
   "source": [
    "data = get_h2h_gw_scores(league_code, gw_no)"
   ]
  },
  {
   "cell_type": "code",
   "execution_count": 5,
   "metadata": {},
   "outputs": [
    {
     "data": {
      "text/plain": [
       "dict_keys(['team_id', 'team_names', 'player_names', 'points_h2h'])"
      ]
     },
     "execution_count": 5,
     "metadata": {},
     "output_type": "execute_result"
    }
   ],
   "source": [
    "data.keys()"
   ]
  },
  {
   "cell_type": "markdown",
   "metadata": {},
   "source": [
    "## pulling data from team id view and not referring to h2h league also works\n",
    "- this gives you lots of data to play with"
   ]
  },
  {
   "cell_type": "code",
   "execution_count": 6,
   "metadata": {},
   "outputs": [],
   "source": [
    "def get_team(team_id:int, gw_no:int) -> dict:\n",
    "    '''get team data for a specific gameweek'''\n",
    "    r = requests.get(base_url+'entry/'+str(team_id)+'/event/'+str(gw_no)+'/picks/')\n",
    "    assert r.status_code == 200\n",
    "    return r.json()\n",
    "\n",
    "def get_team_points_classic(team_id:int, gw_no:int) -> int:\n",
    "    '''get classic league gw points from each team this gw'''\n",
    "    return get_team(team_id, gw_no)['entry_history']['points']\n",
    "\n",
    "def get_team_transfers_cost(team_id:int, gw_no:int) -> int:\n",
    "    '''get transfers point penalty from each team this gw'''\n",
    "    return get_team(team_id, gw_no)['entry_history']['event_transfers_cost']"
   ]
  },
  {
   "cell_type": "code",
   "execution_count": 7,
   "metadata": {},
   "outputs": [],
   "source": [
    "data['points_classic'] = []\n",
    "for team_id in data['team_id']:\n",
    "    data['points_classic'].append(get_team_points_classic(team_id, gw_no))"
   ]
  },
  {
   "cell_type": "code",
   "execution_count": 8,
   "metadata": {},
   "outputs": [],
   "source": [
    "data['transfers_cost'] = []\n",
    "for team_id in data['team_id']:\n",
    "    data['transfers_cost'].append(get_team_transfers_cost(team_id, gw_no))"
   ]
  },
  {
   "cell_type": "code",
   "execution_count": 9,
   "metadata": {},
   "outputs": [
    {
     "data": {
      "text/plain": [
       "dict_keys(['team_id', 'team_names', 'player_names', 'points_h2h', 'points_classic', 'transfers_cost'])"
      ]
     },
     "execution_count": 9,
     "metadata": {},
     "output_type": "execute_result"
    }
   ],
   "source": [
    "data.keys()"
   ]
  },
  {
   "cell_type": "markdown",
   "metadata": {},
   "source": [
    "## calculate weekly summary"
   ]
  },
  {
   "cell_type": "code",
   "execution_count": 10,
   "metadata": {},
   "outputs": [],
   "source": [
    "# find top and bottom\n",
    "max_indices = [index for index, item in enumerate(data['points_h2h']) if item == max(data['points_h2h'])]\n",
    "min_indices = [index for index, item in enumerate(data['points_h2h']) if item == min(data['points_h2h'])]"
   ]
  },
  {
   "cell_type": "code",
   "execution_count": 11,
   "metadata": {},
   "outputs": [],
   "source": [
    "# payment details\n",
    "prize_money = 500\n",
    "\n",
    "if len(max_indices) == 1 and len(min_indices) == 1:\n",
    "    # champ คนเดียว บ๊วยคนเดียว\n",
    "    payees = [prize_money]\n",
    "    payers = [-1 * prize_money]\n",
    "elif len(max_indices) == 1 and len(min_indices) > 1:\n",
    "    # champ คนเดียว บ๊วยหลายคน, บ๊วยจ่ายทุกคน\n",
    "    payees = [prize_money * len(min_indices)] \n",
    "    payers = [-1 * prize_money] * len(min_indices)\n",
    "elif len(max_indices) > 1 and len(min_indices) == 1:\n",
    "    # champ หลายคน บ๊วยคนเดียว, แชมป์หารรับ\n",
    "    payees = [round(prize_money / len(max_indices), 2)] * len(max_indices)\n",
    "    payers = [-1 * prize_money] \n",
    "else:\n",
    "    # champ หลายคน บ๊วยหลายคน\n",
    "    payees = [round(prize_money * len(min_indices) / len(max_indices), 2)] * len(max_indices)\n",
    "    payers = [-1 * prize_money] * len(min_indices) "
   ]
  },
  {
   "cell_type": "code",
   "execution_count": 12,
   "metadata": {},
   "outputs": [
    {
     "name": "stdout",
     "output_type": "stream",
     "text": [
      "GW 10 H2H results\n",
      "\n",
      "Top scorer(s):\n",
      "peep (Peep Chutrakul) 89 - 0 = 89 Points\n",
      "\n",
      "Bottom(s) of the week:\n",
      "PIYAWIT (Piyawit TAC) 38 - 0 = 38 Points\n",
      "\n",
      "[500]\n",
      "[-500]\n"
     ]
    }
   ],
   "source": [
    "# result message\n",
    "print('GW', gw_no, 'H2H results')\n",
    "\n",
    "print('\\nTop scorer(s):')\n",
    "for max_index in max_indices:\n",
    "    print(\n",
    "        data['team_names'][max_index],\n",
    "        '('+data['player_names'][max_index]+')',\n",
    "        data['points_classic'][max_index], '-', data['transfers_cost'][max_index], # redundant, checking math logic of classic and h2h leagues\n",
    "        '=', data['points_h2h'][max_index], 'Points'\n",
    "        )\n",
    "\n",
    "print('\\nBottom(s) of the week:')\n",
    "for min_index in min_indices:\n",
    "    print(\n",
    "        data['team_names'][min_index],\n",
    "        '('+data['player_names'][min_index]+')',\n",
    "        data['points_classic'][min_index], '-', data['transfers_cost'][min_index],\n",
    "        '=', data['points_h2h'][min_index], 'Points'\n",
    "        )\n",
    "\n",
    "print()\n",
    "print(payees)\n",
    "print(payers)"
   ]
  }
 ],
 "metadata": {
  "kernelspec": {
   "display_name": "fpl",
   "language": "python",
   "name": "python3"
  },
  "language_info": {
   "codemirror_mode": {
    "name": "ipython",
    "version": 3
   },
   "file_extension": ".py",
   "mimetype": "text/x-python",
   "name": "python",
   "nbconvert_exporter": "python",
   "pygments_lexer": "ipython3",
   "version": "3.9.12"
  },
  "orig_nbformat": 4,
  "vscode": {
   "interpreter": {
    "hash": "0951152ceae16f1f84ef81c47c70d4bb5ff7187e15c7712d82ba9854e816d1f3"
   }
  }
 },
 "nbformat": 4,
 "nbformat_minor": 2
}
